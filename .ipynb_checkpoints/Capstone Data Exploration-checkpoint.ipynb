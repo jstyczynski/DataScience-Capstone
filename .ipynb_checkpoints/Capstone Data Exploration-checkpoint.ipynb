{
 "cells": [
  {
   "cell_type": "markdown",
   "metadata": {},
   "source": [
    "# Capstone code"
   ]
  },
  {
   "cell_type": "code",
   "execution_count": 68,
   "metadata": {
    "collapsed": true
   },
   "outputs": [],
   "source": [
    "%matplotlib inline\n",
    "\n",
    "import psycopg2\n",
    "import pandas as pd\n",
    "import numpy as np\n",
    "import matplotlib.pyplot as plt\n",
    "from auth_js import connection_string_js\n"
   ]
  },
  {
   "cell_type": "code",
   "execution_count": 4,
   "metadata": {
    "collapsed": false
   },
   "outputs": [
    {
     "name": "stdout",
     "output_type": "stream",
     "text": [
      "flows\n",
      "['id', 'tstamp', 'duration', 'srccomputer', 'srcport', 'dstcomputer', 'dstport', 'protocol', 'packetcnt', 'bytecnt', 'redteam']\n",
      "(1, 1, 0, 'C1065', '389', 'C3799', 'N10451', '6', '10', '5323', None)\n",
      "(2, 1, 0, 'C1423', 'N1136', 'C1707', 'N1', '6', '5', '847', None)\n",
      "(3, 1, 0, 'C1423', 'N1142', 'C1707', 'N1', '6', '5', '847', None)\n",
      "(4, 1, 0, 'C14909', 'N8191', 'C5720', '2049', '6', '1', '52', None)\n",
      "(5, 1, 0, 'C14909', 'N8192', 'C5720', '2049', '6', '1', '52', None)\n",
      "\n",
      "\n",
      "redteam\n",
      "['id', 'tstamp', 'userdomain', 'src', 'dst', 'usr', 'domain', 'redteam']\n",
      "(261, '768556', 'U66@DOM1', 'C17693', 'C306', 'U66', 'DOM1', None)\n",
      "(79, '736582', 'U2837@DOM1', 'C17693', 'C89', 'U2837', 'DOM1', None)\n",
      "(80, '736894', 'U2837@DOM1', 'C17693', 'C1484', 'U2837', 'DOM1', None)\n",
      "(81, '736936', 'U2837@DOM1', 'C17693', 'C8490', 'U2837', 'DOM1', None)\n",
      "(82, '737011', 'U349@DOM1', 'C17693', 'C3601', 'U349', 'DOM1', None)\n",
      "\n",
      "\n",
      "dns\n",
      "['id', 'tstamp', 'srccomputer', 'computerresolved', 'redteam']\n",
      "(130625, 195647, 'C16073', 'C529', None)\n",
      "(130626, 195648, 'C16073', 'C457', None)\n",
      "(130627, 195648, 'C657', 'C1707', None)\n",
      "(130628, 195650, 'C16073', 'C457', None)\n",
      "(130629, 195651, 'C16073', 'C528', None)\n",
      "\n",
      "\n",
      "proc\n",
      "['id', 'tstamp', 'compdomain', 'computer', 'processname', 'startend', 'comp', 'domain', 'redteam', 'session']\n",
      "(206520845, 2622907, 'U92@DOM1', 'C730', 'P53', 'End', 'U92', 'DOM1', None, None)\n",
      "(206520957, 2622909, 'C1$@DOM1', 'C1', 'P25', 'End', 'C1', 'DOM1', None, None)\n",
      "(206521629, 2622913, 'U32@DOM1', 'C815', 'P28', 'End', 'U32', 'DOM1', None, None)\n",
      "(206523512, 2622928, 'C44$@DOM1', 'C44', 'P16', 'End', 'C44', 'DOM1', None, None)\n",
      "(206523865, 2622931, 'C92$@DOM1', 'C92', 'P16', 'End', 'C92', 'DOM1', None, None)\n",
      "\n",
      "\n",
      "auth\n",
      "['id', 'tstamp', 'srcuserdomain', 'dstuserdomain', 'srccomputer', 'dstcomputer', 'authtype', 'logontype', 'authorient', 'passfail', 'srcusr', 'srcdomain', 'dstusr', 'dstdomain', 'redteam']\n",
      "(160333548, 815239, 'C6196$@DOM1', 'C6196$@DOM1', 'C6196', 'C706', 'Kerberos', 'Network', 'LogOn', 'Success', 'C6196', 'DOM1', 'C6196', 'DOM1', None)\n",
      "(160333549, 815239, 'C6196$@DOM1', 'C6196$@DOM1', 'C706', 'C706', '?', 'Network', 'LogOff', 'Success', 'C6196', 'DOM1', 'C6196', 'DOM1', None)\n",
      "(160333550, 815239, 'C6207$@DOM1', 'C6207$@DOM1', 'C706', 'C706', '?', 'Network', 'LogOff', 'Success', 'C6207', 'DOM1', 'C6207', 'DOM1', None)\n",
      "(160333551, 815239, 'C623$@DOM1', 'C623$@DOM1', 'C467', 'C467', '?', 'Network', 'LogOff', 'Success', 'C623', 'DOM1', 'C623', 'DOM1', None)\n",
      "(160333552, 815239, 'C6290$@DOM1', 'C6290$@DOM1', 'C6290', 'C467', '?', '?', 'TGS', 'Success', 'C6290', 'DOM1', 'C6290', 'DOM1', None)\n",
      "\n",
      "\n"
     ]
    }
   ],
   "source": [
    "# This script includes a function to query the database and return the list of table names,\n",
    "# as well  a second function that accepts table name and number of rows as arguments \n",
    "# and prints a summary of the head of each table.\n",
    "\n",
    "#Connect to rds\n",
    "try:\n",
    "    conn = psycopg2.connect(connection_string_js)\n",
    "except:\n",
    "    print (\"\\n_________CONNECTION FAILURE_________\\n\")\n",
    "cur = conn.cursor()\n",
    "\n",
    "#This function prints the names of the tables \n",
    "def table_lister ():\n",
    "    cur.execute(\"\"\"SELECT table_name FROM information_schema.tables WHERE table_schema = 'public'\"\"\")\n",
    "    rows = cur.fetchall()\n",
    "    for row in rows:\n",
    "        print (row[0])\n",
    "\n",
    "#This function prints columns and top rows from table, it accepts table name and number of rows as arguments.\n",
    "def head_generator (table, limit):\n",
    "    cur.execute(\"\"\"SELECT * FROM %s LIMIT %s\"\"\" % (table, limit))\n",
    "    col_names = [cn[0] for cn in cur.description]\n",
    "    rows = cur.fetchall()\n",
    "    print (table)\n",
    "    print (col_names)\n",
    "    for row in rows:\n",
    "        print (row)\n",
    "    print ('\\n')\n",
    "    \n",
    "#disconnect from DB\n",
    "def disconnect():\n",
    "    cur.close()\n",
    "    conn.close()\n",
    "\n",
    "if __name__ == '__main__':\n",
    "    #table_lister()\n",
    "    head_generator('flows',5)\n",
    "    head_generator('redteam',5)\n",
    "    head_generator('dns',5)\n",
    "    head_generator('proc',5)\n",
    "    head_generator('auth',5)\n",
    "    disconnect()"
   ]
  },
  {
   "cell_type": "code",
   "execution_count": 27,
   "metadata": {
    "collapsed": false
   },
   "outputs": [],
   "source": [
    "#Connect to rds\n",
    "try:\n",
    "    conn = psycopg2.connect(connection_string_js)\n",
    "except:\n",
    "    print (\"\\n_________CONNECTION FAILURE_________\\n\")\n",
    "cur = conn.cursor()\n",
    "\n",
    "#Write up query in second line of this function. \n",
    "query_return_holder = []\n",
    "def query_launcher (query):\n",
    "    cur.execute(\"\"\"%s\"\"\" % query)\n",
    "    rows = cur.fetchall()\n",
    "    for i in rows:\n",
    "        query_return_holder.append(i)\n",
    "    \n",
    "#disconnect from DB\n",
    "def disconnect():\n",
    "    cur.close()\n",
    "    conn.close()\n",
    "\n",
    "if __name__ == '__main__':\n",
    "    query_launcher(\"\"\"SELECT * FROM redteam\"\"\")\n",
    "    #disconnect()"
   ]
  },
  {
   "cell_type": "code",
   "execution_count": 28,
   "metadata": {
    "collapsed": false
   },
   "outputs": [
    {
     "data": {
      "text/html": [
       "<div>\n",
       "<table border=\"1\" class=\"dataframe\">\n",
       "  <thead>\n",
       "    <tr style=\"text-align: right;\">\n",
       "      <th></th>\n",
       "      <th>id</th>\n",
       "      <th>tstamp</th>\n",
       "      <th>userdomain</th>\n",
       "      <th>src</th>\n",
       "      <th>dst</th>\n",
       "      <th>usr</th>\n",
       "      <th>domain</th>\n",
       "      <th>redteam</th>\n",
       "    </tr>\n",
       "  </thead>\n",
       "  <tbody>\n",
       "    <tr>\n",
       "      <th>0</th>\n",
       "      <td>261</td>\n",
       "      <td>768556</td>\n",
       "      <td>U66@DOM1</td>\n",
       "      <td>C17693</td>\n",
       "      <td>C306</td>\n",
       "      <td>U66</td>\n",
       "      <td>DOM1</td>\n",
       "      <td>None</td>\n",
       "    </tr>\n",
       "    <tr>\n",
       "      <th>1</th>\n",
       "      <td>79</td>\n",
       "      <td>736582</td>\n",
       "      <td>U2837@DOM1</td>\n",
       "      <td>C17693</td>\n",
       "      <td>C89</td>\n",
       "      <td>U2837</td>\n",
       "      <td>DOM1</td>\n",
       "      <td>None</td>\n",
       "    </tr>\n",
       "    <tr>\n",
       "      <th>2</th>\n",
       "      <td>80</td>\n",
       "      <td>736894</td>\n",
       "      <td>U2837@DOM1</td>\n",
       "      <td>C17693</td>\n",
       "      <td>C1484</td>\n",
       "      <td>U2837</td>\n",
       "      <td>DOM1</td>\n",
       "      <td>None</td>\n",
       "    </tr>\n",
       "    <tr>\n",
       "      <th>3</th>\n",
       "      <td>81</td>\n",
       "      <td>736936</td>\n",
       "      <td>U2837@DOM1</td>\n",
       "      <td>C17693</td>\n",
       "      <td>C8490</td>\n",
       "      <td>U2837</td>\n",
       "      <td>DOM1</td>\n",
       "      <td>None</td>\n",
       "    </tr>\n",
       "    <tr>\n",
       "      <th>4</th>\n",
       "      <td>82</td>\n",
       "      <td>737011</td>\n",
       "      <td>U349@DOM1</td>\n",
       "      <td>C17693</td>\n",
       "      <td>C3601</td>\n",
       "      <td>U349</td>\n",
       "      <td>DOM1</td>\n",
       "      <td>None</td>\n",
       "    </tr>\n",
       "  </tbody>\n",
       "</table>\n",
       "</div>"
      ],
      "text/plain": [
       "    id  tstamp  userdomain     src    dst    usr domain redteam\n",
       "0  261  768556    U66@DOM1  C17693   C306    U66   DOM1    None\n",
       "1   79  736582  U2837@DOM1  C17693    C89  U2837   DOM1    None\n",
       "2   80  736894  U2837@DOM1  C17693  C1484  U2837   DOM1    None\n",
       "3   81  736936  U2837@DOM1  C17693  C8490  U2837   DOM1    None\n",
       "4   82  737011   U349@DOM1  C17693  C3601   U349   DOM1    None"
      ]
     },
     "execution_count": 28,
     "metadata": {},
     "output_type": "execute_result"
    }
   ],
   "source": [
    "df = pd.DataFrame(query_return_holder)\n",
    "df.columns = ['id', 'tstamp', 'userdomain', 'src', 'dst', 'usr', 'domain', 'redteam']\n",
    "df.to_csv(path_or_buf='redteam.txt',delimiter=',')\n",
    "df.head(100)"
   ]
  },
  {
   "cell_type": "code",
   "execution_count": 33,
   "metadata": {
    "collapsed": false
   },
   "outputs": [],
   "source": [
    "#df.head(200)"
   ]
  },
  {
   "cell_type": "code",
   "execution_count": 36,
   "metadata": {
    "collapsed": false
   },
   "outputs": [
    {
     "data": {
      "text/plain": [
       "count         749\n",
       "unique        712\n",
       "top       1233528\n",
       "freq           12\n",
       "Name: tstamp, dtype: object"
      ]
     },
     "execution_count": 36,
     "metadata": {},
     "output_type": "execute_result"
    }
   ],
   "source": [
    "df.tstamp.describe()"
   ]
  },
  {
   "cell_type": "code",
   "execution_count": 45,
   "metadata": {
    "collapsed": false
   },
   "outputs": [
    {
     "name": "stdout",
     "output_type": "stream",
     "text": [
      "[1, 1, 86400]\n",
      "[2, 86401, 172800]\n",
      "[3, 172801, 259200]\n",
      "[4, 259201, 345600]\n",
      "[5, 345601, 432000]\n",
      "[6, 432001, 518400]\n",
      "[7, 518401, 604800]\n",
      "[8, 604801, 691200]\n",
      "[9, 691201, 777600]\n",
      "[10, 777601, 864000]\n",
      "[11, 864001, 950400]\n",
      "[12, 950401, 1036800]\n",
      "[13, 1036801, 1123200]\n",
      "[14, 1123201, 1209600]\n",
      "[15, 1209601, 1296000]\n",
      "[16, 1296001, 1382400]\n",
      "[17, 1382401, 1468800]\n",
      "[18, 1468801, 1555200]\n",
      "[19, 1555201, 1641600]\n",
      "[20, 1641601, 1728000]\n",
      "[21, 1728001, 1814400]\n",
      "[22, 1814401, 1900800]\n",
      "[23, 1900801, 1987200]\n",
      "[24, 1987201, 2073600]\n",
      "[25, 2073601, 2160000]\n",
      "[26, 2160001, 2246400]\n",
      "[27, 2246401, 2332800]\n",
      "[28, 2332801, 2419200]\n",
      "[29, 2419201, 2505600]\n",
      "[30, 2505601, 2592000]\n",
      "[31, 2592001, 2678400]\n",
      "[32, 2678401, 2764800]\n",
      "[33, 2764801, 2851200]\n",
      "[34, 2851201, 2937600]\n",
      "[35, 2937601, 3024000]\n",
      "[36, 3024001, 3110400]\n",
      "[37, 3110401, 3196800]\n",
      "[38, 3196801, 3283200]\n",
      "[39, 3283201, 3369600]\n",
      "[40, 3369601, 3456000]\n",
      "[41, 3456001, 3542400]\n",
      "[42, 3542401, 3628800]\n",
      "[43, 3628801, 3715200]\n",
      "[44, 3715201, 3801600]\n",
      "[45, 3801601, 3888000]\n",
      "[46, 3888001, 3974400]\n",
      "[47, 3974401, 4060800]\n",
      "[48, 4060801, 4147200]\n",
      "[49, 4147201, 4233600]\n",
      "[50, 4233601, 4320000]\n",
      "[51, 4320001, 4406400]\n",
      "[52, 4406401, 4492800]\n",
      "[53, 4492801, 4579200]\n",
      "[54, 4579201, 4665600]\n",
      "[55, 4665601, 4752000]\n",
      "[56, 4752001, 4838400]\n",
      "[57, 4838401, 4924800]\n",
      "[58, 4924801, 5011200]\n",
      "[59, 5011201, 5097600]\n",
      "[60, 5097601, 5184000]\n"
     ]
    }
   ],
   "source": [
    "day_number = []\n",
    "start_time = 1\n",
    "day_label = 1\n",
    "for i in range (60):\n",
    "    end_time = start_time + 86399 #number of seconds in 24 hours\n",
    "    i = [day_label,start_time,end_time]\n",
    "    day_number.append(i)\n",
    "    start_time = end_time + 1\n",
    "    day_label = day_label + 1\n",
    "for i in day_number:\n",
    "    print (i)"
   ]
  },
  {
   "cell_type": "code",
   "execution_count": 58,
   "metadata": {
    "collapsed": false
   },
   "outputs": [
    {
     "name": "stdout",
     "output_type": "stream",
     "text": [
      "[79, '736582', 'U2837@DOM1', 'C17693', 'C89', 'U2837', 'DOM1', None]\n",
      "[80, '736894', 'U2837@DOM1', 'C17693', 'C1484', 'U2837', 'DOM1', None]\n",
      "[81, '736936', 'U2837@DOM1', 'C17693', 'C8490', 'U2837', 'DOM1', None]\n",
      "[82, '737011', 'U349@DOM1', 'C17693', 'C3601', 'U349', 'DOM1', None]\n"
     ]
    }
   ],
   "source": [
    "day_updater = df.values.tolist()\n",
    "for i in day_updater[0:5]:\n",
    "    print (i)"
   ]
  },
  {
   "cell_type": "code",
   "execution_count": 75,
   "metadata": {
    "collapsed": false
   },
   "outputs": [
    {
     "name": "stdout",
     "output_type": "stream",
     "text": [
      "[261, '768556', 'U66@DOM1', 'C17693', 'C306', 'U66', 'DOM1', None]\n",
      "[79, '736582', 'U2837@DOM1', 'C17693', 'C89', 'U2837', 'DOM1', None]\n",
      "[80, '736894', 'U2837@DOM1', 'C17693', 'C1484', 'U2837', 'DOM1', None]\n",
      "[81, '736936', 'U2837@DOM1', 'C17693', 'C8490', 'U2837', 'DOM1', None]\n",
      "[82, '737011', 'U349@DOM1', 'C17693', 'C3601', 'U349', 'DOM1', None]\n"
     ]
    }
   ],
   "source": [
    "for i in day_updater[0:5]:\n",
    "    print (i)"
   ]
  },
  {
   "cell_type": "code",
   "execution_count": 63,
   "metadata": {
    "collapsed": false
   },
   "outputs": [
    {
     "name": "stdout",
     "output_type": "stream",
     "text": [
      "[9, 9, 9, 9, 9, 9, 9, 9, 9, 9, 9, 9, 9, 9, 9, 9, 9, 9, 9, 9, 9, 9, 9, 9, 9, 9, 9, 9, 9, 9, 9, 9, 9, 9, 9, 9, 9, 9, 9, 9, 9, 9, 9, 9, 9, 9, 9, 9, 9, 9, 9, 9, 9, 9, 9, 9, 9, 9, 9, 9, 9, 9, 9, 9, 9, 9, 9, 9, 9, 9, 9, 9, 9, 9, 9, 9, 9, 9, 9, 9, 9, 9, 9, 9, 9, 9, 9, 9, 9, 9, 9, 9, 9, 9, 9, 9, 9, 9, 9, 9, 9, 9, 9, 9, 9, 9, 9, 9, 9, 9, 9, 9, 9, 9, 9, 9, 9, 9, 9, 9, 9, 9, 9, 9, 9, 9, 9, 9, 9, 9, 9, 9, 9, 9, 9, 9, 9, 9, 9, 9, 9, 9, 9, 9, 9, 9, 9, 9, 9, 9, 13, 9, 9, 9, 9, 9, 9, 9, 9, 9, 9, 9, 9, 9, 9, 9, 9, 9, 9, 9, 9, 9, 9, 9, 9, 9, 9, 9, 9, 9, 9, 9, 9, 9, 9, 9, 9, 9, 9, 9, 9, 9, 9, 9, 9, 9, 9, 9, 9, 9, 9, 9, 9, 9, 9, 9, 9, 9, 9, 9, 9, 9, 9, 9, 9, 9, 9, 9, 9, 9, 9, 9, 9, 9, 9, 9, 9, 9, 9, 9, 9, 9, 9, 9, 9, 9, 9, 9, 9, 9, 9, 9, 9, 9, 9, 9, 10, 10, 10, 10, 10, 10, 10, 10, 10, 10, 10, 10, 10, 10, 10, 13, 13, 13, 13, 13, 13, 13, 13, 13, 13, 13, 13, 13, 13, 13, 13, 13, 13, 13, 13, 13, 13, 13, 13, 13, 13, 13, 13, 13, 13, 13, 13, 13, 13, 13, 13, 13, 13, 13, 13, 13, 13, 13, 13, 13, 13, 13, 13, 13, 13, 13, 13, 13, 13, 13, 13, 13, 13, 13, 13, 13, 13, 13, 13, 13, 13, 13, 13, 13, 13, 13, 13, 13, 13, 13, 13, 13, 13, 13, 13, 13, 13, 13, 13, 13, 13, 13, 13, 13, 13, 13, 13, 13, 13, 13, 13, 13, 13, 13, 13, 13, 13, 13, 13, 13, 13, 13, 13, 13, 13, 13, 13, 13, 13, 13, 13, 13, 13, 13, 13, 13, 13, 13, 13, 13, 13, 13, 13, 13, 13, 13, 13, 13, 13, 13, 13, 13, 13, 13, 13, 13, 13, 13, 13, 13, 13, 13, 13, 13, 13, 13, 13, 13, 13, 13, 13, 13, 13, 13, 13, 13, 13, 13, 13, 13, 13, 13, 13, 13, 13, 13, 13, 13, 13, 13, 13, 13, 13, 13, 13, 13, 13, 13, 13, 13, 13, 13, 13, 13, 13, 13, 13, 13, 13, 13, 13, 13, 13, 13, 13, 13, 13, 13, 13, 13, 13, 13, 13, 14, 14, 14, 14, 14, 14, 14, 14, 14, 14, 14, 14, 14, 14, 14, 14, 14, 14, 14, 14, 14, 14, 14, 14, 14, 14, 14, 14, 14, 14, 14, 14, 14, 14, 14, 14, 14, 14, 14, 14, 14, 14, 14, 14, 14, 14, 14, 14, 14, 14, 14, 14, 14, 14, 14, 14, 14, 14, 14, 14, 14, 14, 14, 14, 14, 14, 14, 14, 14, 14, 14, 14, 14, 14, 14, 14, 14, 14, 14, 15, 15, 15, 15, 15, 15, 15, 15, 15, 15, 15, 15, 15, 15, 15, 15, 15, 15, 15, 15, 15, 15, 15, 15, 15, 15, 15, 6, 6, 6, 6, 6, 6, 6, 6, 6, 6, 6, 6, 6, 6, 6, 6, 6, 6, 7, 7, 7, 8, 9, 15, 15, 15, 15, 15, 15, 15, 15, 16, 16, 16, 16, 16, 22, 23, 27, 27, 27, 27, 27, 27, 27, 27, 27, 27, 27, 27, 27, 27, 27, 27, 27, 27, 27, 27, 27, 27, 27, 27, 27, 27, 28, 28, 2, 2, 2, 2, 2, 2, 2, 2, 2, 2, 3, 3, 3, 3, 3, 3, 3, 3, 3, 3, 3, 3, 3, 3, 3, 9, 9, 9, 9, 9, 9, 9, 9, 9, 9, 9, 9, 9, 9, 9, 9, 9, 9, 9, 9, 9, 9, 9, 9, 9, 9, 9, 14, 16, 16, 16, 16, 16, 16, 16, 16, 16, 16, 16, 16, 16, 16, 16, 16, 16, 16, 16, 16, 16, 21, 22, 22, 22, 6, 6, 6, 14, 28, 28, 28, 28, 28, 28, 28, 29, 29, 29, 30, 30, 30, 30, 30, 30, 30, 30, 30, 30, 30, 30, 30, 30, 30, 30]\n"
     ]
    }
   ],
   "source": [
    "day_series = []\n",
    "\n",
    "for x in range(749):\n",
    "    for y in range(60):\n",
    "        if int(day_updater[x][1]) > day_number[y][1] and int(day_updater[x][1]) < day_number[y][2]:\n",
    "            day_series.append(day_number[y][0])\n",
    "print (day_series)"
   ]
  },
  {
   "cell_type": "code",
   "execution_count": 76,
   "metadata": {
    "collapsed": false
   },
   "outputs": [
    {
     "data": {
      "text/html": [
       "<div>\n",
       "<table border=\"1\" class=\"dataframe\">\n",
       "  <thead>\n",
       "    <tr style=\"text-align: right;\">\n",
       "      <th></th>\n",
       "      <th>id</th>\n",
       "      <th>tstamp</th>\n",
       "      <th>userdomain</th>\n",
       "      <th>src</th>\n",
       "      <th>dst</th>\n",
       "      <th>usr</th>\n",
       "      <th>domain</th>\n",
       "      <th>redteam</th>\n",
       "      <th>day</th>\n",
       "    </tr>\n",
       "  </thead>\n",
       "  <tbody>\n",
       "    <tr>\n",
       "      <th>0</th>\n",
       "      <td>261</td>\n",
       "      <td>768556</td>\n",
       "      <td>U66@DOM1</td>\n",
       "      <td>C17693</td>\n",
       "      <td>C306</td>\n",
       "      <td>U66</td>\n",
       "      <td>DOM1</td>\n",
       "      <td>None</td>\n",
       "      <td>9</td>\n",
       "    </tr>\n",
       "    <tr>\n",
       "      <th>1</th>\n",
       "      <td>79</td>\n",
       "      <td>736582</td>\n",
       "      <td>U2837@DOM1</td>\n",
       "      <td>C17693</td>\n",
       "      <td>C89</td>\n",
       "      <td>U2837</td>\n",
       "      <td>DOM1</td>\n",
       "      <td>None</td>\n",
       "      <td>9</td>\n",
       "    </tr>\n",
       "    <tr>\n",
       "      <th>2</th>\n",
       "      <td>80</td>\n",
       "      <td>736894</td>\n",
       "      <td>U2837@DOM1</td>\n",
       "      <td>C17693</td>\n",
       "      <td>C1484</td>\n",
       "      <td>U2837</td>\n",
       "      <td>DOM1</td>\n",
       "      <td>None</td>\n",
       "      <td>9</td>\n",
       "    </tr>\n",
       "    <tr>\n",
       "      <th>3</th>\n",
       "      <td>81</td>\n",
       "      <td>736936</td>\n",
       "      <td>U2837@DOM1</td>\n",
       "      <td>C17693</td>\n",
       "      <td>C8490</td>\n",
       "      <td>U2837</td>\n",
       "      <td>DOM1</td>\n",
       "      <td>None</td>\n",
       "      <td>9</td>\n",
       "    </tr>\n",
       "    <tr>\n",
       "      <th>4</th>\n",
       "      <td>82</td>\n",
       "      <td>737011</td>\n",
       "      <td>U349@DOM1</td>\n",
       "      <td>C17693</td>\n",
       "      <td>C3601</td>\n",
       "      <td>U349</td>\n",
       "      <td>DOM1</td>\n",
       "      <td>None</td>\n",
       "      <td>9</td>\n",
       "    </tr>\n",
       "  </tbody>\n",
       "</table>\n",
       "</div>"
      ],
      "text/plain": [
       "    id  tstamp  userdomain     src    dst    usr domain redteam  day\n",
       "0  261  768556    U66@DOM1  C17693   C306    U66   DOM1    None    9\n",
       "1   79  736582  U2837@DOM1  C17693    C89  U2837   DOM1    None    9\n",
       "2   80  736894  U2837@DOM1  C17693  C1484  U2837   DOM1    None    9\n",
       "3   81  736936  U2837@DOM1  C17693  C8490  U2837   DOM1    None    9\n",
       "4   82  737011   U349@DOM1  C17693  C3601   U349   DOM1    None    9"
      ]
     },
     "execution_count": 76,
     "metadata": {},
     "output_type": "execute_result"
    }
   ],
   "source": [
    "day_series = np.array(day_series)\n",
    "day_series = pd.Series(day_series)\n",
    "df['day'] = day_series\n",
    "df.to_csv(path_or_buf='redteam.txt',delimiter=',')\n",
    "df.head()"
   ]
  },
  {
   "cell_type": "code",
   "execution_count": 78,
   "metadata": {
    "collapsed": false
   },
   "outputs": [
    {
     "data": {
      "text/plain": [
       "0    9\n",
       "dtype: int64"
      ]
     },
     "execution_count": 78,
     "metadata": {},
     "output_type": "execute_result"
    }
   ],
   "source": [
    "df['day'].mode()"
   ]
  },
  {
   "cell_type": "code",
   "execution_count": null,
   "metadata": {
    "collapsed": true
   },
   "outputs": [],
   "source": []
  }
 ],
 "metadata": {
  "kernelspec": {
   "display_name": "Python 3",
   "language": "python",
   "name": "python3"
  },
  "language_info": {
   "codemirror_mode": {
    "name": "ipython",
    "version": 3
   },
   "file_extension": ".py",
   "mimetype": "text/x-python",
   "name": "python",
   "nbconvert_exporter": "python",
   "pygments_lexer": "ipython3",
   "version": "3.5.1"
  }
 },
 "nbformat": 4,
 "nbformat_minor": 0
}
